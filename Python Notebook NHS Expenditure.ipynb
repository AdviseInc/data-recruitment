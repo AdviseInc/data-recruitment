{
 "cells": [
  {
   "cell_type": "code",
   "execution_count": 12,
   "metadata": {},
   "outputs": [
    {
     "name": "stdout",
     "output_type": "stream",
     "text": [
      "Requirement already satisfied: snowflake-connector-python in c:\\users\\ashle\\appdata\\local\\packages\\pythonsoftwarefoundation.python.3.10_qbz5n2kfra8p0\\localcache\\local-packages\\python310\\site-packages (3.0.3)"
     ]
    },
    {
     "name": "stderr",
     "output_type": "stream",
     "text": [
      "\n",
      "[notice] A new release of pip is available: 23.0.1 -> 23.1.2\n",
      "[notice] To update, run: C:\\Users\\ashle\\AppData\\Local\\Microsoft\\WindowsApps\\PythonSoftwareFoundation.Python.3.10_qbz5n2kfra8p0\\python.exe -m pip install --upgrade pip\n"
     ]
    },
    {
     "name": "stdout",
     "output_type": "stream",
     "text": [
      "\n",
      "Requirement already satisfied: pycryptodomex!=3.5.0,<4.0.0,>=3.2 in c:\\users\\ashle\\appdata\\local\\packages\\pythonsoftwarefoundation.python.3.10_qbz5n2kfra8p0\\localcache\\local-packages\\python310\\site-packages (from snowflake-connector-python) (3.18.0)\n",
      "Requirement already satisfied: pyjwt<3.0.0 in c:\\users\\ashle\\appdata\\local\\packages\\pythonsoftwarefoundation.python.3.10_qbz5n2kfra8p0\\localcache\\local-packages\\python310\\site-packages (from snowflake-connector-python) (2.7.0)\n",
      "Requirement already satisfied: requests<3.0.0 in c:\\users\\ashle\\appdata\\local\\packages\\pythonsoftwarefoundation.python.3.10_qbz5n2kfra8p0\\localcache\\local-packages\\python310\\site-packages (from snowflake-connector-python) (2.31.0)\n",
      "Requirement already satisfied: cffi<2.0.0,>=1.9 in c:\\users\\ashle\\appdata\\local\\packages\\pythonsoftwarefoundation.python.3.10_qbz5n2kfra8p0\\localcache\\local-packages\\python310\\site-packages (from snowflake-connector-python) (1.15.1)\n",
      "Requirement already satisfied: idna<4,>=2.5 in c:\\users\\ashle\\appdata\\local\\packages\\pythonsoftwarefoundation.python.3.10_qbz5n2kfra8p0\\localcache\\local-packages\\python310\\site-packages (from snowflake-connector-python) (3.4)\n",
      "Requirement already satisfied: certifi>=2017.4.17 in c:\\users\\ashle\\appdata\\local\\packages\\pythonsoftwarefoundation.python.3.10_qbz5n2kfra8p0\\localcache\\local-packages\\python310\\site-packages (from snowflake-connector-python) (2023.5.7)\n",
      "Requirement already satisfied: asn1crypto<2.0.0,>0.24.0 in c:\\users\\ashle\\appdata\\local\\packages\\pythonsoftwarefoundation.python.3.10_qbz5n2kfra8p0\\localcache\\local-packages\\python310\\site-packages (from snowflake-connector-python) (1.5.1)\n",
      "Requirement already satisfied: typing-extensions<5,>=4.3 in c:\\users\\ashle\\appdata\\local\\packages\\pythonsoftwarefoundation.python.3.10_qbz5n2kfra8p0\\localcache\\local-packages\\python310\\site-packages (from snowflake-connector-python) (4.6.1)\n",
      "Requirement already satisfied: filelock<4,>=3.5 in c:\\users\\ashle\\appdata\\local\\packages\\pythonsoftwarefoundation.python.3.10_qbz5n2kfra8p0\\localcache\\local-packages\\python310\\site-packages (from snowflake-connector-python) (3.12.0)\n",
      "Requirement already satisfied: charset-normalizer<3,>=2 in c:\\users\\ashle\\appdata\\local\\packages\\pythonsoftwarefoundation.python.3.10_qbz5n2kfra8p0\\localcache\\local-packages\\python310\\site-packages (from snowflake-connector-python) (2.1.1)\n",
      "Requirement already satisfied: oscrypto<2.0.0 in c:\\users\\ashle\\appdata\\local\\packages\\pythonsoftwarefoundation.python.3.10_qbz5n2kfra8p0\\localcache\\local-packages\\python310\\site-packages (from snowflake-connector-python) (1.3.0)\n",
      "Requirement already satisfied: pyOpenSSL<24.0.0,>=16.2.0 in c:\\users\\ashle\\appdata\\local\\packages\\pythonsoftwarefoundation.python.3.10_qbz5n2kfra8p0\\localcache\\local-packages\\python310\\site-packages (from snowflake-connector-python) (23.1.1)\n",
      "Requirement already satisfied: packaging in c:\\users\\ashle\\appdata\\local\\packages\\pythonsoftwarefoundation.python.3.10_qbz5n2kfra8p0\\localcache\\local-packages\\python310\\site-packages (from snowflake-connector-python) (21.3)\n",
      "Requirement already satisfied: urllib3<1.27,>=1.21.1 in c:\\users\\ashle\\appdata\\local\\packages\\pythonsoftwarefoundation.python.3.10_qbz5n2kfra8p0\\localcache\\local-packages\\python310\\site-packages (from snowflake-connector-python) (1.26.16)\n",
      "Requirement already satisfied: cryptography<41.0.0,>=3.1.0 in c:\\users\\ashle\\appdata\\local\\packages\\pythonsoftwarefoundation.python.3.10_qbz5n2kfra8p0\\localcache\\local-packages\\python310\\site-packages (from snowflake-connector-python) (40.0.2)\n",
      "Requirement already satisfied: pytz in c:\\users\\ashle\\appdata\\local\\packages\\pythonsoftwarefoundation.python.3.10_qbz5n2kfra8p0\\localcache\\local-packages\\python310\\site-packages (from snowflake-connector-python) (2022.6)\n",
      "Requirement already satisfied: pycparser in c:\\users\\ashle\\appdata\\local\\packages\\pythonsoftwarefoundation.python.3.10_qbz5n2kfra8p0\\localcache\\local-packages\\python310\\site-packages (from cffi<2.0.0,>=1.9->snowflake-connector-python) (2.21)\n",
      "Requirement already satisfied: pyparsing!=3.0.5,>=2.0.2 in c:\\users\\ashle\\appdata\\local\\packages\\pythonsoftwarefoundation.python.3.10_qbz5n2kfra8p0\\localcache\\local-packages\\python310\\site-packages (from packaging->snowflake-connector-python) (3.0.9)\n"
     ]
    }
   ],
   "source": [
    "!pip install snowflake-connector-python\n",
    "\n",
    "import snowflake.connector as  conn"
   ]
  },
  {
   "cell_type": "code",
   "execution_count": 13,
   "metadata": {},
   "outputs": [],
   "source": [
    "conn1 = snowflake.connector.connect(\n",
    "    user='ASHLEYWIJESURIYA',\n",
    "    password='Kubrick2024!',\n",
    "    account='rvktngg-iu56961',\n",
    "    database='ASHLEYWIJESURIYA',\n",
    "    schema='NHS_EXPENDITURE'\n",
    "    )"
   ]
  },
  {
   "cell_type": "code",
   "execution_count": 31,
   "metadata": {},
   "outputs": [
    {
     "data": {
      "text/plain": [
       "<snowflake.connector.cursor.SnowflakeCursor at 0x1d5604e0580>"
      ]
     },
     "execution_count": 31,
     "metadata": {},
     "output_type": "execute_result"
    }
   ],
   "source": [
    "cursor=conn1.cursor()\n",
    "cursor.execute('USE ROLE ASHLEYWIJESURIYA')\n",
    "cursor.execute('USE DATABASE ASHLEYWIJESURIYA')\n",
    "cursor.execute(r\" USE SCHEMA NHS_EXPENDITURE\")\n",
    "cursor.execute(r\"PUT file://C:\\Users\\ashle\\Documents\\adviseinc\\expenditure_v2\\expenditure_v2.csv @NHS_STAGE\")"
   ]
  },
  {
   "cell_type": "code",
   "execution_count": 55,
   "metadata": {},
   "outputs": [
    {
     "data": {
      "text/plain": [
       "<snowflake.connector.cursor.SnowflakeCursor at 0x1d5604e0580>"
      ]
     },
     "execution_count": 55,
     "metadata": {},
     "output_type": "execute_result"
    }
   ],
   "source": [
    "cursor.execute(r\"CREATE OR REPLACE TABLE EXPENDITURE (Department_Family varchar(16777216), Entity varchar(16777216), Date date, Expense_Type varchar(16777216), Expense_Area varchar(16777216), Supplier varchar(16777216), Transaction_Number varchar(16777216), Expenditure float)\")\n",
    "cursor.execute(r\"COPY INTO ASHLEYWIJESURIYA.NHS_EXPENDITURE.EXPENDITURE FROM @NHS_STAGE FILE_FORMAT = (TYPE = CSV SKIP_HEADER = 1) ON_ERROR = CONTINUE\")"
   ]
  },
  {
   "cell_type": "code",
   "execution_count": null,
   "metadata": {},
   "outputs": [],
   "source": []
  }
 ],
 "metadata": {
  "kernelspec": {
   "display_name": "Python 3",
   "language": "python",
   "name": "python3"
  },
  "language_info": {
   "codemirror_mode": {
    "name": "ipython",
    "version": 3
   },
   "file_extension": ".py",
   "mimetype": "text/x-python",
   "name": "python",
   "nbconvert_exporter": "python",
   "pygments_lexer": "ipython3",
   "version": "3.10.11"
  },
  "orig_nbformat": 4
 },
 "nbformat": 4,
 "nbformat_minor": 2
}
