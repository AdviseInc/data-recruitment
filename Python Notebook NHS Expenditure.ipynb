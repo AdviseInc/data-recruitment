{
 "cells": [
  {
   "cell_type": "code",
   "execution_count": null,
   "metadata": {},
   "outputs": [],
   "source": [
    "!pip install snowflake-connector-python\n",
    "\n",
    "import snowflake.connector as  conn"
   ]
  },
  {
   "cell_type": "code",
   "execution_count": null,
   "metadata": {},
   "outputs": [],
   "source": [
    "conn1 = snowflake.connector.connect(\n",
    "    user='ASHLEYWIJESURIYA',\n",
    "    password='Kubrick2024!',\n",
    "    account='rvktngg-iu56961',\n",
    "    database='ASHLEYWIJESURIYA',\n",
    "    schema='NHS_EXPENDITURE'\n",
    "    )"
   ]
  },
  {
   "cell_type": "code",
   "execution_count": null,
   "metadata": {},
   "outputs": [],
   "source": [
    "cursor=conn1.cursor()\n",
    "cursor.execute('USE ROLE ASHLEYWIJESURIYA')\n",
    "cursor.execute('USE DATABASE ASHLEYWIJESURIYA')\n",
    "cursor.execute(r\" USE SCHEMA NHS_EXPENDITURE\")\n",
    "cursor.execute(r\"PUT file://C:\\Users\\ashle\\Documents\\adviseinc\\expenditure_v2\\expenditure_v2.csv @NHS_STAGE\")"
   ]
  },
  {
   "cell_type": "code",
   "execution_count": null,
   "metadata": {},
   "outputs": [],
   "source": [
    "cursor.execute(r\"CREATE OR REPLACE TABLE EXPENDITURE (Department_Family varchar(16777216), Entity varchar(16777216), Date date, Expense_Type varchar(16777216), Expense_Area varchar(16777216), Supplier varchar(16777216), Transaction_Number varchar(16777216), Expenditure float)\")\n",
    "cursor.execute(r\"COPY INTO ASHLEYWIJESURIYA.NHS_EXPENDITURE.EXPENDITURE FROM @NHS_STAGE FILE_FORMAT = (TYPE = CSV SKIP_HEADER = 1) ON_ERROR = CONTINUE\")"
   ]
  }
 ],
 "metadata": {
  "kernelspec": {
   "display_name": "Python 3",
   "language": "python",
   "name": "python3"
  },
  "language_info": {
   "codemirror_mode": {
    "name": "ipython",
    "version": 3
   },
   "file_extension": ".py",
   "mimetype": "text/x-python",
   "name": "python",
   "nbconvert_exporter": "python",
   "pygments_lexer": "ipython3",
   "version": "3.10.11"
  },
  "orig_nbformat": 4
 },
 "nbformat": 4,
 "nbformat_minor": 2
}
