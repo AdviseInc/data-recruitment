{
 "cells": [
  {
   "cell_type": "code",
   "execution_count": 6,
   "metadata": {},
   "outputs": [],
   "source": [
    "import snowflake.connector\n"
   ]
  },
  {
   "cell_type": "code",
   "execution_count": 31,
   "metadata": {},
   "outputs": [],
   "source": [
    "table = 'EXPENDITURE_V2'\n",
    "con = snowflake.connector.connect(\n",
    "    user=\"NAVKARANRANDHAWA\",  # given on your instruction email\n",
    "    password=\"Adviseinc1!\",  # set by you after you log in to Snowflake for the first time\n",
    "    account=\"LS54927.eu-west-2.aws\",\n",
    "    role=\"navkaranrandhawa\",  # this would've been created by us, it will be the same as your user but all lower case\n",
    "    database=\"NAVKARANRANDHAWA\",  # you will see a database with your name when you log in\n",
    "    warehouse=\"compute_wh\",\n",
    "    schema = \"test schema\",\n",
    "    table = table,\n",
    "    session_parameters={\n",
    "        \"QUERY_TAG\": \"data-recruitment\",\n",
    "    },\n",
    ")"
   ]
  },
  {
   "cell_type": "code",
   "execution_count": 75,
   "metadata": {},
   "outputs": [
    {
     "name": "stdout",
     "output_type": "stream",
     "text": [
      "['Department Family', 'Entity', 'Date', 'Expense Type', 'Expense Area', 'Supplier', 'Transaction Number', 'Expenditure']\n"
     ]
    },
    {
     "name": "stderr",
     "output_type": "stream",
     "text": [
      "/var/folders/mk/fsds1mrn35jdn5l23w6gvph00000gp/T/ipykernel_81335/3541449761.py:3: DtypeWarning: Columns (7) have mixed types. Specify dtype option on import or set low_memory=False.\n",
      "  df = pd.read_csv(csv_file)\n"
     ]
    }
   ],
   "source": [
    "\n",
    "\n"
   ]
  },
  {
   "cell_type": "code",
   "execution_count": 56,
   "metadata": {},
   "outputs": [],
   "source": [
    "schema = \"EXPENDITURE_V2_SCHEMA\"\n",
    "\n",
    "con = snowflake.connector.connect(\n",
    "    user=\"NAVKARANRANDHAWA\",  # given on your instruction email\n",
    "    password=\"Adviseinc1!\",  # set by you after you log in to Snowflake for the first time\n",
    "    account=\"LS54927.eu-west-2.aws\",\n",
    "    role=\"navkaranrandhawa\",  # this would've been created by us, it will be the same as your user but all lower case\n",
    "    database=\"NAVKARANRANDHAWA\",  # you will see a database with your name when you log in\n",
    "    warehouse=\"compute_wh\",\n",
    "    schema = schema,\n",
    "    session_parameters={\n",
    "        \"QUERY_TAG\": \"data-recruitment\",\n",
    "    },)\n",
    "    "
   ]
  },
  {
   "cell_type": "code",
   "execution_count": 66,
   "metadata": {},
   "outputs": [
    {
     "data": {
      "text/plain": [
       "<snowflake.connector.cursor.SnowflakeCursor at 0x123590820>"
      ]
     },
     "execution_count": 66,
     "metadata": {},
     "output_type": "execute_result"
    }
   ],
   "source": [
    "cursor = con.cursor()\n",
    "create_schema_query = f\"CREATE SCHEMA IF NOT EXISTS {schema}\"\n",
    "cursor.execute(create_schema_query)\n",
    "\n",
    "create_table_query = f\"\"\"\n",
    "    CREATE TABLE IF NOT EXISTS {schema}.{table} (\n",
    "        \"Department Family\" STRING,\n",
    "        \"Entity\" STRING,\n",
    "        \"Date\" DATE,\n",
    "        \"Expense Type\" STRING,\n",
    "        \"Expense Area\" STRING,\n",
    "        \"Supplier\" STRING,\n",
    "        \"Transaction Number\" STRING,\n",
    "        \"Expenditure\" FLOAT\n",
    "    )\n",
    "\"\"\"\n",
    "cursor.execute(create_table_query)\n",
    "con.commit()"
   ]
  },
  {
   "cell_type": "code",
   "execution_count": 82,
   "metadata": {},
   "outputs": [
    {
     "data": {
      "text/plain": [
       "<snowflake.connector.cursor.SnowflakeCursor at 0x123590820>"
      ]
     },
     "execution_count": 82,
     "metadata": {},
     "output_type": "execute_result"
    }
   ],
   "source": [
    "csv_file_path = '/Users/navkaranrandhawa/Documents/Personal/adviseinc/data-recruitment/expenditure_v2.csv'\n",
    "stage_name = f\"{schema}_STAGE\"\n",
    "stage_csv_query = f\"\"\"\n",
    "    CREATE STAGE IF NOT EXISTS {stage_name}\n",
    "    FILE_FORMAT = (\n",
    "        TYPE = 'CSV'\n",
    "        FIELD_DELIMITER = ','\n",
    "        SKIP_HEADER = 1\n",
    "    )\n",
    "\"\"\"\n",
    "cursor.execute(stage_csv_query)"
   ]
  },
  {
   "cell_type": "code",
   "execution_count": 83,
   "metadata": {},
   "outputs": [
    {
     "data": {
      "text/plain": [
       "<snowflake.connector.cursor.SnowflakeCursor at 0x123590820>"
      ]
     },
     "execution_count": 83,
     "metadata": {},
     "output_type": "execute_result"
    }
   ],
   "source": [
    "copy_into_query = f\"\"\"\n",
    "    COPY INTO {table}\n",
    "    FROM @{stage_name}\n",
    "    FILE_FORMAT = (\n",
    "        TYPE = 'CSV'\n",
    "        FIELD_DELIMITER = ','\n",
    "        SKIP_HEADER = 1\n",
    "    )\n",
    "\"\"\"\n",
    "cursor.execute(copy_into_query)\n",
    "con.commit()"
   ]
  },
  {
   "cell_type": "code",
   "execution_count": 86,
   "metadata": {},
   "outputs": [],
   "source": [
    "put_csv_query = f\"\"\"\n",
    "    PUT file://{csv_file_path} @{stage_name}\n",
    "\"\"\"\n",
    "cursor.execute(put_csv_query)\n",
    "con.commit()"
   ]
  },
  {
   "cell_type": "code",
   "execution_count": null,
   "metadata": {},
   "outputs": [],
   "source": [
    "SQL Queries\n",
    "Distinct \n",
    "SELECT COUNT(DISTINCT \"Transaction Number\") AS transaction_count\n",
    "FROM EXPENDITURE_V2_SCHEMA.EXPENDITURE_V2 ;"
   ]
  },
  {
   "cell_type": "code",
   "execution_count": null,
   "metadata": {},
   "outputs": [],
   "source": [
    "SELECT EXTRACT(YEAR FROM \"Date\") AS Year,\n",
    "       AVG(\"Expenditure\") AS AverageYearlySpend\n",
    "FROM EXPENDITURE_V2_SCHEMA.EXPENDITURE_V2\n",
    "WHERE \"Entity\" = 'Salisbury NHS Foundation Trust'\n",
    "GROUP BY Year;"
   ]
  }
 ],
 "metadata": {
  "kernelspec": {
   "display_name": "Python 3",
   "language": "python",
   "name": "python3"
  },
  "language_info": {
   "codemirror_mode": {
    "name": "ipython",
    "version": 3
   },
   "file_extension": ".py",
   "mimetype": "text/x-python",
   "name": "python",
   "nbconvert_exporter": "python",
   "pygments_lexer": "ipython3",
   "version": "3.10.11"
  },
  "orig_nbformat": 4
 },
 "nbformat": 4,
 "nbformat_minor": 2
}
